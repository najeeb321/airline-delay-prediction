{
  "nbformat": 4,
  "nbformat_minor": 0,
  "metadata": {
    "colab": {
      "name": "finalPredictionModels.ipynb",
      "provenance": [],
      "collapsed_sections": []
    },
    "kernelspec": {
      "name": "python3",
      "display_name": "Python 3"
    }
  },
  "cells": [
    {
      "cell_type": "markdown",
      "metadata": {
        "id": "HxDJn2pEdms5"
      },
      "source": [
        "\n",
        "\n",
        "IMPORTING LIBRARIES"
      ]
    },
    {
      "cell_type": "code",
      "metadata": {
        "id": "i0AmEo_KJ5Bk"
      },
      "source": [
        "#for data analysis purposes use import libraries\n",
        "import pandas as pd \n",
        "import numpy as np              \n",
        "import matplotlib.pyplot as plt\n",
        "import seaborn as sns\n",
        "%matplotlib inline\n",
        "plt.style.use('fivethirtyeight')"
      ],
      "execution_count": null,
      "outputs": []
    },
    {
      "cell_type": "code",
      "metadata": {
        "id": "qNYGFGW9J9xI"
      },
      "source": [
        "#Needed for Linear Regression, Polinomial Regression, Ridge Regression, and Lasso Regression\n",
        "from sklearn.preprocessing import PolynomialFeatures\n",
        "from sklearn.pipeline import make_pipeline\n",
        "from sklearn.linear_model import LinearRegression, Ridge, Lasso, Lars\n",
        "from sklearn.metrics import mean_squared_error, mean_absolute_error\n",
        "from math import sqrt"
      ],
      "execution_count": null,
      "outputs": []
    },
    {
      "cell_type": "code",
      "metadata": {
        "id": "3gAYCnTaJ_sA",
        "colab": {
          "base_uri": "https://localhost:8080/"
        },
        "outputId": "9101e787-5914-40dd-95b2-f78f4d6c12c3"
      },
      "source": [
        "#Mount Google Drive\n",
        "from google.colab import drive\n",
        "drive.mount('/content/drive')"
      ],
      "execution_count": null,
      "outputs": [
        {
          "output_type": "stream",
          "text": [
            "Drive already mounted at /content/drive; to attempt to forcibly remount, call drive.mount(\"/content/drive\", force_remount=True).\n"
          ],
          "name": "stdout"
        }
      ]
    },
    {
      "cell_type": "code",
      "metadata": {
        "id": "Q5Orh78iKHOT"
      },
      "source": [
        "#Link newFlight_Regg.csv to newFlights_Regg\n",
        "newFlights_Regg = pd.read_csv('/content/drive/My Drive/BigDataProject_Group_1/BiggerAirline.csv')\n"
      ],
      "execution_count": null,
      "outputs": []
    },
    {
      "cell_type": "code",
      "metadata": {
        "id": "ygXXGLLfZp-3",
        "colab": {
          "base_uri": "https://localhost:8080/"
        },
        "outputId": "f495e906-7c81-49ac-8dc2-9a3b51d11b8e"
      },
      "source": [
        "# counts the number of rows that have 0s and 1s in DEP_DELAY\n",
        "newFlights_Regg.DEP_DELAY.value_counts()"
      ],
      "execution_count": null,
      "outputs": [
        {
          "output_type": "execute_result",
          "data": {
            "text/plain": [
              "0    9172336\n",
              "1    3325077\n",
              "Name: DEP_DELAY, dtype: int64"
            ]
          },
          "metadata": {
            "tags": []
          },
          "execution_count": 6
        }
      ]
    },
    {
      "cell_type": "markdown",
      "metadata": {
        "id": "lzkeEHXEdaji"
      },
      "source": [
        "FUNCTION TO MAKE CONFUSION MATRIX\n",
        "Function Retrived From : https://www.kaggle.com/agungor2/various-confusion-matrix-plots"
      ]
    },
    {
      "cell_type": "code",
      "metadata": {
        "id": "-HBmL9njYtfq"
      },
      "source": [
        "from sklearn.metrics import confusion_matrix\n",
        "\n",
        "def plot_cm(y_true, y_pred, figsize=(10,10)):\n",
        "    cm = confusion_matrix(y_true, y_pred, labels=np.unique(y_true))\n",
        "    cm_sum = np.sum(cm, axis=1, keepdims=True)\n",
        "    cm_perc = cm / cm_sum.astype(float) * 100\n",
        "    annot = np.empty_like(cm).astype(str)\n",
        "    nrows, ncols = cm.shape\n",
        "    for i in range(nrows):\n",
        "        for j in range(ncols):\n",
        "            c = cm[i, j]\n",
        "            p = cm_perc[i, j]\n",
        "            if i == j:\n",
        "                s = cm_sum[i]\n",
        "                annot[i, j] = '%.1f%%\\n%d/%d' % (p, c, s)\n",
        "            elif c == 0:\n",
        "                annot[i, j] = ''\n",
        "            else:\n",
        "                annot[i, j] = '%.1f%%\\n%d' % (p, c)\n",
        "    cm = pd.DataFrame(cm, index=np.unique(y_true), columns=np.unique(y_true))\n",
        "    cm.index.name = 'Actual'\n",
        "    cm.columns.name = 'Predicted'\n",
        "    fig, ax = plt.subplots(figsize=figsize)\n",
        "    sns.heatmap(cm, cmap= \"YlGnBu\", annot=annot, fmt='', ax=ax)"
      ],
      "execution_count": null,
      "outputs": []
    },
    {
      "cell_type": "code",
      "metadata": {
        "id": "DBL5meXRKc17",
        "colab": {
          "base_uri": "https://localhost:8080/",
          "height": 195
        },
        "outputId": "9eacb352-d976-41d4-86fb-ac7ad5874a49"
      },
      "source": [
        "#head() displayes the first 5 rows of the dataset\n",
        "newFlights_Regg.head()"
      ],
      "execution_count": null,
      "outputs": [
        {
          "output_type": "execute_result",
          "data": {
            "text/html": [
              "<div>\n",
              "<style scoped>\n",
              "    .dataframe tbody tr th:only-of-type {\n",
              "        vertical-align: middle;\n",
              "    }\n",
              "\n",
              "    .dataframe tbody tr th {\n",
              "        vertical-align: top;\n",
              "    }\n",
              "\n",
              "    .dataframe thead th {\n",
              "        text-align: right;\n",
              "    }\n",
              "</style>\n",
              "<table border=\"1\" class=\"dataframe\">\n",
              "  <thead>\n",
              "    <tr style=\"text-align: right;\">\n",
              "      <th></th>\n",
              "      <th>Unnamed: 0</th>\n",
              "      <th>DEP_DELAY</th>\n",
              "      <th>TAXI_OUT</th>\n",
              "      <th>TAXI_IN</th>\n",
              "      <th>ARR_DELAY</th>\n",
              "      <th>SCHEDULED_ELAPSED_TIME</th>\n",
              "      <th>ACTUAL_ELAPSED_TIME</th>\n",
              "      <th>DISTANCE</th>\n",
              "    </tr>\n",
              "  </thead>\n",
              "  <tbody>\n",
              "    <tr>\n",
              "      <th>0</th>\n",
              "      <td>0</td>\n",
              "      <td>0</td>\n",
              "      <td>15.0</td>\n",
              "      <td>7.0</td>\n",
              "      <td>0</td>\n",
              "      <td>63.0</td>\n",
              "      <td>62.0</td>\n",
              "      <td>177.0</td>\n",
              "    </tr>\n",
              "    <tr>\n",
              "      <th>1</th>\n",
              "      <td>1</td>\n",
              "      <td>1</td>\n",
              "      <td>20.0</td>\n",
              "      <td>9.0</td>\n",
              "      <td>0</td>\n",
              "      <td>194.0</td>\n",
              "      <td>179.0</td>\n",
              "      <td>1076.0</td>\n",
              "    </tr>\n",
              "    <tr>\n",
              "      <th>2</th>\n",
              "      <td>2</td>\n",
              "      <td>1</td>\n",
              "      <td>19.0</td>\n",
              "      <td>10.0</td>\n",
              "      <td>1</td>\n",
              "      <td>57.0</td>\n",
              "      <td>61.0</td>\n",
              "      <td>177.0</td>\n",
              "    </tr>\n",
              "    <tr>\n",
              "      <th>3</th>\n",
              "      <td>3</td>\n",
              "      <td>1</td>\n",
              "      <td>8.0</td>\n",
              "      <td>4.0</td>\n",
              "      <td>0</td>\n",
              "      <td>196.0</td>\n",
              "      <td>176.0</td>\n",
              "      <td>1222.0</td>\n",
              "    </tr>\n",
              "    <tr>\n",
              "      <th>4</th>\n",
              "      <td>4</td>\n",
              "      <td>0</td>\n",
              "      <td>15.0</td>\n",
              "      <td>10.0</td>\n",
              "      <td>0</td>\n",
              "      <td>152.0</td>\n",
              "      <td>140.0</td>\n",
              "      <td>925.0</td>\n",
              "    </tr>\n",
              "  </tbody>\n",
              "</table>\n",
              "</div>"
            ],
            "text/plain": [
              "   Unnamed: 0  DEP_DELAY  ...  ACTUAL_ELAPSED_TIME  DISTANCE\n",
              "0           0          0  ...                 62.0     177.0\n",
              "1           1          1  ...                179.0    1076.0\n",
              "2           2          1  ...                 61.0     177.0\n",
              "3           3          1  ...                176.0    1222.0\n",
              "4           4          0  ...                140.0     925.0\n",
              "\n",
              "[5 rows x 8 columns]"
            ]
          },
          "metadata": {
            "tags": []
          },
          "execution_count": 8
        }
      ]
    },
    {
      "cell_type": "code",
      "metadata": {
        "id": "LC8pQLZSKbyc"
      },
      "source": [
        "#Trying with more features, not just 'DISTANCE'\n",
        "features = ['SCHEDULED_ELAPSED_TIME', 'ACTUAL_ELAPSED_TIME', 'ARR_DELAY', 'DISTANCE','TAXI_OUT','TAXI_IN']"
      ],
      "execution_count": null,
      "outputs": []
    },
    {
      "cell_type": "code",
      "metadata": {
        "id": "i846zGmmvsGT"
      },
      "source": [
        "# split the data into train and test\n",
        "# using random seed of 3333\n",
        "np.random.seed(3333)\n",
        "train = newFlights_Regg.sample(frac=0.8, random_state=3333)\n",
        "test = pd.concat([newFlights_Regg, train]).drop_duplicates(keep=False)"
      ],
      "execution_count": null,
      "outputs": []
    },
    {
      "cell_type": "markdown",
      "metadata": {
        "id": "l5-3GT3yVvCi"
      },
      "source": [
        "LINEAR REGRESSION"
      ]
    },
    {
      "cell_type": "code",
      "metadata": {
        "id": "nKT6xV6Uv0Gg",
        "colab": {
          "base_uri": "https://localhost:8080/"
        },
        "outputId": "d44dddc1-5ed0-4c09-93af-fc7819096481"
      },
      "source": [
        "linearRegression = LinearRegression(normalize=True).fit(train[features], train[['DEP_DELAY']])\n",
        "print(\"Training Score: \", linearRegression.score(train[features], train[['DEP_DELAY']]))\n",
        "print(\"Testing Score: \", linearRegression.score(test[features], test[['DEP_DELAY']]))\n",
        "print(\"Mean Squared Error: \", mean_squared_error(test['DEP_DELAY'], linearRegression.predict(test[features])))\n",
        "print(\"Root Mean Squared Error: \", sqrt(mean_squared_error(test['DEP_DELAY'], linearRegression.predict(test[features]))))\n",
        "print(\"Mean Absolute Error: \", mean_absolute_error(test['DEP_DELAY'], linearRegression.predict(test[features])))"
      ],
      "execution_count": null,
      "outputs": [
        {
          "output_type": "stream",
          "text": [
            "Training Score:  0.4975384849968286\n",
            "Testing Score:  0.49874159840609145\n",
            "Mean Squared Error:  0.09792487222863695\n",
            "Root Mean Squared Error:  0.3129295004128517\n",
            "Mean Absolute Error:  0.20713186974807177\n"
          ],
          "name": "stdout"
        }
      ]
    },
    {
      "cell_type": "markdown",
      "metadata": {
        "id": "wpmsvUKEV41L"
      },
      "source": [
        "RIDGE REGRESSION"
      ]
    },
    {
      "cell_type": "code",
      "metadata": {
        "id": "gOL9qKe-v7Tj",
        "colab": {
          "base_uri": "https://localhost:8080/"
        },
        "outputId": "12627f8a-fea5-4e3c-cbcd-5df632d90c2b"
      },
      "source": [
        "ridgeRegression = Ridge(normalize=True).fit(train[features], train[['DEP_DELAY']])\n",
        "print(\"Training Score: \", ridgeRegression.score(train[features], train[['DEP_DELAY']]))\n",
        "print(\"Testing Score: \", ridgeRegression.score(test[features], test[['DEP_DELAY']]))\n",
        "print(\"Mean Squared Error: \", mean_squared_error(test['DEP_DELAY'], ridgeRegression.predict(test[features])))\n",
        "print(\"Root Mean Squared Error: \", sqrt(mean_squared_error(test['DEP_DELAY'], ridgeRegression.predict(test[features]))))\n",
        "print(\"Mean Absolute Error: \", mean_absolute_error(test['DEP_DELAY'], ridgeRegression.predict(test[features])))"
      ],
      "execution_count": null,
      "outputs": [
        {
          "output_type": "stream",
          "text": [
            "Training Score:  0.32247178576607916\n",
            "Testing Score:  0.323015866827571\n",
            "Mean Squared Error:  0.13225431141088784\n",
            "Root Mean Squared Error:  0.3636678586442412\n",
            "Mean Absolute Error:  0.30727183904011535\n"
          ],
          "name": "stdout"
        }
      ]
    },
    {
      "cell_type": "markdown",
      "metadata": {
        "id": "x_EJrjNNV6az"
      },
      "source": [
        "LASSO REGRESSION"
      ]
    },
    {
      "cell_type": "code",
      "metadata": {
        "id": "PLlR267Kv9FA",
        "colab": {
          "base_uri": "https://localhost:8080/"
        },
        "outputId": "19c783c7-b2c0-48ba-ccb4-352a4e6f1a0f"
      },
      "source": [
        "lassoRegression = Lasso(normalize=True).fit(train[features], train[['DEP_DELAY']])\n",
        "print(\"Training Score: \", lassoRegression.score(train[features], train[['DEP_DELAY']]))\n",
        "print(\"Testing Score: \", lassoRegression.score(test[features], test[['DEP_DELAY']]))\n",
        "print(\"Mean Squared Error: \", mean_squared_error(test['DEP_DELAY'], lassoRegression.predict(test[features])))\n",
        "print(\"Root Mean Squared Error: \", sqrt(mean_squared_error(test['DEP_DELAY'], lassoRegression.predict(test[features]))))\n",
        "print(\"Mean Absolute Error: \", mean_absolute_error(test['DEP_DELAY'], lassoRegression.predict(test[features])))"
      ],
      "execution_count": null,
      "outputs": [
        {
          "output_type": "stream",
          "text": [
            "Training Score:  0.0\n",
            "Testing Score:  -2.6678270836910656e-07\n",
            "Mean Squared Error:  0.1953581187705116\n",
            "Root Mean Squared Error:  0.44199334697539466\n",
            "Mean Absolute Error:  0.3906094030521321\n"
          ],
          "name": "stdout"
        }
      ]
    },
    {
      "cell_type": "code",
      "metadata": {
        "id": "LH5E4Ku3m-vm"
      },
      "source": [
        "#Since No of Delayed attribues and No of Non-Delayed attributes are not equal we are going to split the dataset into two and then make the no. of Non-Delayed attributes same as the Delayed\n",
        "DelayedFlights=newFlights_Regg.loc[newFlights_Regg['DEP_DELAY']==1]\n",
        "Non_DelayedFlights=newFlights_Regg.loc[newFlights_Regg['DEP_DELAY']==0]"
      ],
      "execution_count": null,
      "outputs": []
    },
    {
      "cell_type": "code",
      "metadata": {
        "id": "_se1OS1UnXaX",
        "colab": {
          "base_uri": "https://localhost:8080/"
        },
        "outputId": "29e01ef2-512c-4333-8685-1af5e2428a45"
      },
      "source": [
        "#len() shows no. of rows in the dataset \n",
        "len(DelayedFlights)"
      ],
      "execution_count": null,
      "outputs": [
        {
          "output_type": "execute_result",
          "data": {
            "text/plain": [
              "3325077"
            ]
          },
          "metadata": {
            "tags": []
          },
          "execution_count": 15
        }
      ]
    },
    {
      "cell_type": "code",
      "metadata": {
        "id": "4WXBMxNBoEXm"
      },
      "source": [
        "#Re-adjusted the Non_DelayedFlights so that it has almost equal no. of rows as DelayedFlights \n",
        "Non_DelayedFlights=Non_DelayedFlights.sample(frac=1)\n",
        "Non_DelayedFlights =Non_DelayedFlights.iloc[:4500000]"
      ],
      "execution_count": null,
      "outputs": []
    },
    {
      "cell_type": "code",
      "metadata": {
        "id": "Zs6QWWCLoYUZ"
      },
      "source": [
        "DelayedFlights=DelayedFlights.sample(frac=1)\n",
        "DelayedFlights= DelayedFlights.iloc[:1500000]"
      ],
      "execution_count": null,
      "outputs": []
    },
    {
      "cell_type": "code",
      "metadata": {
        "id": "heFZ6U7VoaKx"
      },
      "source": [
        "#Joining the previously seperated datasets\n",
        "frames=[DelayedFlights,Non_DelayedFlights]\n",
        "DF=pd.concat(frames)"
      ],
      "execution_count": null,
      "outputs": []
    },
    {
      "cell_type": "code",
      "metadata": {
        "id": "MKHcYKUmoyrU",
        "colab": {
          "base_uri": "https://localhost:8080/"
        },
        "outputId": "e642de72-eb81-41cc-d010-dbb2cbba52b9"
      },
      "source": [
        "#len() shows no. of rows in the dataset\n",
        "len(DF)"
      ],
      "execution_count": null,
      "outputs": [
        {
          "output_type": "execute_result",
          "data": {
            "text/plain": [
              "6000000"
            ]
          },
          "metadata": {
            "tags": []
          },
          "execution_count": 19
        }
      ]
    },
    {
      "cell_type": "markdown",
      "metadata": {
        "id": "HZyE4eixdzKm"
      },
      "source": [
        "SPLITTING THE DATASET FOR LOGISTIC REGRESSION PURPOSE"
      ]
    },
    {
      "cell_type": "code",
      "metadata": {
        "id": "Q-luTVq7MLHs"
      },
      "source": [
        "# split the data into train and test\n",
        "# using random seed of 3333\n",
        "np.random.seed(3333)\n",
        "train = DF.sample(frac=0.8, random_state=3333)\n",
        "test = pd.concat([DF, train]).drop_duplicates(keep=False)"
      ],
      "execution_count": null,
      "outputs": []
    },
    {
      "cell_type": "markdown",
      "metadata": {
        "id": "JKhgBEDId11r"
      },
      "source": [
        "LOGISTIC REGRESSION"
      ]
    },
    {
      "cell_type": "code",
      "metadata": {
        "id": "NBvytSDNdDgX"
      },
      "source": [
        "#Import libraries for logistic regression, cross validation, kfold\n",
        "from sklearn.model_selection import StratifiedKFold, cross_val_score\n",
        "from sklearn.linear_model import LogisticRegressionCV\n",
        "from sklearn.metrics import  classification_report"
      ],
      "execution_count": null,
      "outputs": []
    },
    {
      "cell_type": "code",
      "metadata": {
        "id": "lFq-U3BedHO2"
      },
      "source": [
        "#to avoid overfitting we are using stratifiedKFold\n",
        "kfold = StratifiedKFold(n_splits=3)"
      ],
      "execution_count": null,
      "outputs": []
    },
    {
      "cell_type": "code",
      "metadata": {
        "id": "DkdCaNSjdJtX",
        "colab": {
          "base_uri": "https://localhost:8080/"
        },
        "outputId": "16468fc5-15e0-40d0-a60a-8ffbaeff3a6f"
      },
      "source": [
        "#Logistic Regression Model with target variable DEP_DELAY and other attributes are used to train it\n",
        "lregg_model = LogisticRegressionCV(cv=kfold,class_weight='balanced',random_state=888)\n",
        "lregg_model.fit(train[features], train[['DEP_DELAY']])"
      ],
      "execution_count": null,
      "outputs": [
        {
          "output_type": "stream",
          "text": [
            "/usr/local/lib/python3.6/dist-packages/sklearn/utils/validation.py:760: DataConversionWarning: A column-vector y was passed when a 1d array was expected. Please change the shape of y to (n_samples, ), for example using ravel().\n",
            "  y = column_or_1d(y, warn=True)\n"
          ],
          "name": "stderr"
        },
        {
          "output_type": "execute_result",
          "data": {
            "text/plain": [
              "LogisticRegressionCV(Cs=10, class_weight='balanced',\n",
              "                     cv=StratifiedKFold(n_splits=3, random_state=None, shuffle=False),\n",
              "                     dual=False, fit_intercept=True, intercept_scaling=1.0,\n",
              "                     l1_ratios=None, max_iter=100, multi_class='auto',\n",
              "                     n_jobs=None, penalty='l2', random_state=888, refit=True,\n",
              "                     scoring=None, solver='lbfgs', tol=0.0001, verbose=0)"
            ]
          },
          "metadata": {
            "tags": []
          },
          "execution_count": 23
        }
      ]
    },
    {
      "cell_type": "code",
      "metadata": {
        "id": "TU93Al-cdPl-"
      },
      "source": [
        "#predicting on test data\n",
        "predict_lregg=lregg_model.predict(test[features])"
      ],
      "execution_count": null,
      "outputs": []
    },
    {
      "cell_type": "code",
      "metadata": {
        "id": "Jd30mAghdRcA",
        "colab": {
          "base_uri": "https://localhost:8080/"
        },
        "outputId": "5f27f27d-cbfd-4946-904b-72905d41ba90"
      },
      "source": [
        "#printing classification report\n",
        "print(classification_report(test['DEP_DELAY'], predict_lregg))"
      ],
      "execution_count": null,
      "outputs": [
        {
          "output_type": "stream",
          "text": [
            "              precision    recall  f1-score   support\n",
            "\n",
            "           0       0.92      0.89      0.90    900120\n",
            "           1       0.69      0.75      0.72    299880\n",
            "\n",
            "    accuracy                           0.85   1200000\n",
            "   macro avg       0.80      0.82      0.81   1200000\n",
            "weighted avg       0.86      0.85      0.86   1200000\n",
            "\n"
          ],
          "name": "stdout"
        }
      ]
    },
    {
      "cell_type": "code",
      "metadata": {
        "id": "tBin_Mc6dTc0",
        "colab": {
          "base_uri": "https://localhost:8080/"
        },
        "outputId": "c9df90e9-2c63-4cbe-ea4c-6deb8f425d4d"
      },
      "source": [
        "#calculating accuracy on cross validation\n",
        "accuracy_lregg=cross_val_score(lregg_model,test[features],test['DEP_DELAY'],cv=kfold,scoring='accuracy')"
      ],
      "execution_count": null,
      "outputs": [
        {
          "output_type": "stream",
          "text": [
            "/usr/local/lib/python3.6/dist-packages/sklearn/linear_model/_logistic.py:940: ConvergenceWarning: lbfgs failed to converge (status=1):\n",
            "STOP: TOTAL NO. of ITERATIONS REACHED LIMIT.\n",
            "\n",
            "Increase the number of iterations (max_iter) or scale the data as shown in:\n",
            "    https://scikit-learn.org/stable/modules/preprocessing.html\n",
            "Please also refer to the documentation for alternative solver options:\n",
            "    https://scikit-learn.org/stable/modules/linear_model.html#logistic-regression\n",
            "  extra_warning_msg=_LOGISTIC_SOLVER_CONVERGENCE_MSG)\n",
            "/usr/local/lib/python3.6/dist-packages/sklearn/linear_model/_logistic.py:940: ConvergenceWarning: lbfgs failed to converge (status=1):\n",
            "STOP: TOTAL NO. of ITERATIONS REACHED LIMIT.\n",
            "\n",
            "Increase the number of iterations (max_iter) or scale the data as shown in:\n",
            "    https://scikit-learn.org/stable/modules/preprocessing.html\n",
            "Please also refer to the documentation for alternative solver options:\n",
            "    https://scikit-learn.org/stable/modules/linear_model.html#logistic-regression\n",
            "  extra_warning_msg=_LOGISTIC_SOLVER_CONVERGENCE_MSG)\n",
            "/usr/local/lib/python3.6/dist-packages/sklearn/linear_model/_logistic.py:940: ConvergenceWarning: lbfgs failed to converge (status=1):\n",
            "STOP: TOTAL NO. of ITERATIONS REACHED LIMIT.\n",
            "\n",
            "Increase the number of iterations (max_iter) or scale the data as shown in:\n",
            "    https://scikit-learn.org/stable/modules/preprocessing.html\n",
            "Please also refer to the documentation for alternative solver options:\n",
            "    https://scikit-learn.org/stable/modules/linear_model.html#logistic-regression\n",
            "  extra_warning_msg=_LOGISTIC_SOLVER_CONVERGENCE_MSG)\n"
          ],
          "name": "stderr"
        }
      ]
    },
    {
      "cell_type": "code",
      "metadata": {
        "id": "IvKPP6c2dVQX",
        "colab": {
          "base_uri": "https://localhost:8080/"
        },
        "outputId": "13b498e5-75aa-46bd-bc2c-0e27fe75d4b0"
      },
      "source": [
        " print('Mean Accuracy: %s' % accuracy_lregg.mean())"
      ],
      "execution_count": null,
      "outputs": [
        {
          "output_type": "stream",
          "text": [
            "Mean Accuracy: 0.857225\n"
          ],
          "name": "stdout"
        }
      ]
    },
    {
      "cell_type": "code",
      "metadata": {
        "id": "u8t3xfBcdXhE",
        "colab": {
          "base_uri": "https://localhost:8080/",
          "height": 605
        },
        "outputId": "fe949202-2f54-4867-f28a-14974702601d"
      },
      "source": [
        "#making confusion matrix\n",
        "plot_cm(test[\"DEP_DELAY\"],predict_lregg)"
      ],
      "execution_count": null,
      "outputs": [
        {
          "output_type": "display_data",
          "data": {
            "image/png": "[encoded data removed]",
            "text/plain": [
              "<Figure size 720x720 with 2 Axes>"
            ]
          },
          "metadata": {
            "tags": [],
            "needs_background": "light"
          }
        }
      ]
    },
    {
      "cell_type": "markdown",
      "metadata": {
        "id": "ps6gPfvId74s"
      },
      "source": [
        "SVM CLASSIFYER"
      ]
    },
    {
      "cell_type": "code",
      "metadata": {
        "id": "tXla_NrkKndT"
      },
      "source": [
        "#now we are going to use SVC classifyer for DEP_DELAY and metrics from sklearn\n",
        "from sklearn.svm import SVC\n",
        "from sklearn import metrics"
      ],
      "execution_count": null,
      "outputs": []
    },
    {
      "cell_type": "code",
      "metadata": {
        "id": "lOJESkaDK1WQ"
      },
      "source": [
        "#making classifyer with hyperparameter of max_iter=100\n",
        "clsfyer = SVC(kernel='rbf',max_iter=100)"
      ],
      "execution_count": null,
      "outputs": []
    },
    {
      "cell_type": "code",
      "metadata": {
        "id": "lmbAeQ5XK3vA",
        "colab": {
          "base_uri": "https://localhost:8080/"
        },
        "outputId": "aaee5714-7939-498b-b6dd-b627084968c5"
      },
      "source": [
        "#fitting the data \n",
        "clsfyer.fit(train[features],train[\"DEP_DELAY\"])"
      ],
      "execution_count": null,
      "outputs": [
        {
          "output_type": "stream",
          "text": [
            "/usr/local/lib/python3.6/dist-packages/sklearn/svm/_base.py:231: ConvergenceWarning: Solver terminated early (max_iter=100).  Consider pre-processing your data with StandardScaler or MinMaxScaler.\n",
            "  % self.max_iter, ConvergenceWarning)\n"
          ],
          "name": "stderr"
        },
        {
          "output_type": "execute_result",
          "data": {
            "text/plain": [
              "SVC(C=1.0, break_ties=False, cache_size=200, class_weight=None, coef0=0.0,\n",
              "    decision_function_shape='ovr', degree=3, gamma='scale', kernel='rbf',\n",
              "    max_iter=100, probability=False, random_state=None, shrinking=True,\n",
              "    tol=0.001, verbose=False)"
            ]
          },
          "metadata": {
            "tags": []
          },
          "execution_count": 31
        }
      ]
    },
    {
      "cell_type": "code",
      "metadata": {
        "id": "pFtUHHTRK5W3"
      },
      "source": [
        "# predicting the test set results\n",
        "clsfyer_predictoer=clsfyer.predict(test[features])\n"
      ],
      "execution_count": null,
      "outputs": []
    },
    {
      "cell_type": "code",
      "metadata": {
        "id": "bqG82Lg7ZM21",
        "colab": {
          "base_uri": "https://localhost:8080/"
        },
        "outputId": "69c10f19-9022-4ac7-d1b9-5cbc46711172"
      },
      "source": [
        " #printing the accuracy\n",
        "print(\"Accuracy:\", metrics.accuracy_score(test[\"DEP_DELAY\"], clsfyer_predictoer))"
      ],
      "execution_count": null,
      "outputs": [
        {
          "output_type": "stream",
          "text": [
            "Accuracy: 0.7177641666666666\n"
          ],
          "name": "stdout"
        }
      ]
    },
    {
      "cell_type": "code",
      "metadata": {
        "id": "2Wki7IznYxgh",
        "colab": {
          "base_uri": "https://localhost:8080/",
          "height": 605
        },
        "outputId": "6450369c-1b34-49cb-8fa2-38ee3dfe25e9"
      },
      "source": [
        "#CONFUSION MATRIX\n",
        "plot_cm(test[\"DEP_DELAY\"],clsfyer_predictoer)"
      ],
      "execution_count": null,
      "outputs": [
        {
          "output_type": "display_data",
          "data": {
            "image/png": "[encoded data removed]",
            "text/plain": [
              "<Figure size 720x720 with 2 Axes>"
            ]
          },
          "metadata": {
            "tags": [],
            "needs_background": "light"
          }
        }
      ]
    },
    {
      "cell_type": "markdown",
      "metadata": {
        "id": "Dgdd2lZJeCED"
      },
      "source": [
        "RANDOM FOREST CLASSIFIER"
      ]
    },
    {
      "cell_type": "code",
      "metadata": {
        "id": "2wkc8o-PK8Zm"
      },
      "source": [
        "#Import library for Random forest Classifier.\n",
        "from sklearn.ensemble import RandomForestClassifier\n",
        "from sklearn import metrics"
      ],
      "execution_count": null,
      "outputs": []
    },
    {
      "cell_type": "code",
      "metadata": {
        "id": "3LWXZYCtK9yI"
      },
      "source": [
        "# SCALING THE INPUT\n",
        "from sklearn.preprocessing import StandardScaler\n",
        "sc_X = StandardScaler()\n",
        "train[features] = sc_X.fit_transform(train[features])\n",
        "test[features] = sc_X.transform(test[features])"
      ],
      "execution_count": null,
      "outputs": []
    },
    {
      "cell_type": "code",
      "metadata": {
        "id": "K8_Ouak3K_UL"
      },
      "source": [
        "# making the Random Forest Classifier\n",
        "RFC=RandomForestClassifier()"
      ],
      "execution_count": null,
      "outputs": []
    },
    {
      "cell_type": "code",
      "metadata": {
        "id": "X1CRGOTKLAyk",
        "colab": {
          "base_uri": "https://localhost:8080/"
        },
        "outputId": "2656029f-bf0c-4bed-9630-9f3c375797e0"
      },
      "source": [
        "#Fitting the data\n",
        "RFC.fit(train[features],train[\"DEP_DELAY\"])"
      ],
      "execution_count": null,
      "outputs": [
        {
          "output_type": "execute_result",
          "data": {
            "text/plain": [
              "RandomForestClassifier(bootstrap=True, ccp_alpha=0.0, class_weight=None,\n",
              "                       criterion='gini', max_depth=None, max_features='auto',\n",
              "                       max_leaf_nodes=None, max_samples=None,\n",
              "                       min_impurity_decrease=0.0, min_impurity_split=None,\n",
              "                       min_samples_leaf=1, min_samples_split=2,\n",
              "                       min_weight_fraction_leaf=0.0, n_estimators=100,\n",
              "                       n_jobs=None, oob_score=False, random_state=None,\n",
              "                       verbose=0, warm_start=False)"
            ]
          },
          "metadata": {
            "tags": []
          },
          "execution_count": 54
        }
      ]
    },
    {
      "cell_type": "code",
      "metadata": {
        "id": "TdSmOxR-LCYV"
      },
      "source": [
        "# predicting the test set results\n",
        "rfc_predictoer=RFC.predict(test[features])"
      ],
      "execution_count": null,
      "outputs": []
    },
    {
      "cell_type": "code",
      "metadata": {
        "id": "ibNmQabRLESb",
        "colab": {
          "base_uri": "https://localhost:8080/"
        },
        "outputId": "b98796ac-86c6-41db-fb4d-d175ca7df3cf"
      },
      "source": [
        "#printing the accuracy\n",
        "print(\"Accuracy:\",metrics.accuracy_score(test[\"DEP_DELAY\"], rfc_predictoer)) "
      ],
      "execution_count": null,
      "outputs": [
        {
          "output_type": "stream",
          "text": [
            "Accuracy: 0.8125\n"
          ],
          "name": "stdout"
        }
      ]
    },
    {
      "cell_type": "code",
      "metadata": {
        "id": "URIbId62X0H0",
        "colab": {
          "base_uri": "https://localhost:8080/",
          "height": 605
        },
        "outputId": "a53f2ecb-c89d-4704-f1fe-55f7e02609ca"
      },
      "source": [
        "#plotting Confusion Matrix\n",
        "    \n",
        "plot_cm(test['DEP_DELAY'],rfc_predictoer)\n"
      ],
      "execution_count": null,
      "outputs": [
        {
          "output_type": "display_data",
          "data": {
            "image/png": "[encoded data removed]",
            "text/plain": [
              "<Figure size 720x720 with 2 Axes>"
            ]
          },
          "metadata": {
            "tags": [],
            "needs_background": "light"
          }
        }
      ]
    },
    {
      "cell_type": "code",
      "metadata": {
        "colab": {
          "base_uri": "https://localhost:8080/"
        },
        "id": "cg2kx5iZhj_p",
        "outputId": "f0e5dd77-4b68-42ee-a2d9-93f3bc3c9eb8"
      },
      "source": [
        "from sklearn.model_selection import RandomizedSearchCV\n",
        "# Number of trees in random forest\n",
        "n_estimators = [int(x) for x in np.linspace(start = 200, stop = 2000, num = 10)]\n",
        "# Number of features to consider at every split\n",
        "max_features = ['auto', 'sqrt']\n",
        "# Maximum number of levels in tree\n",
        "max_depth = [int(x) for x in np.linspace(10, 110, num = 11)]\n",
        "max_depth.append(None)\n",
        "# Minimum number of samples required to split a node\n",
        "min_samples_split = [2, 5, 10]\n",
        "# Minimum number of samples required at each leaf node\n",
        "min_samples_leaf = [1, 2, 4]\n",
        "# Method of selecting samples for training each tree\n",
        "bootstrap = [True, False]\n",
        "# Create the random grid\n",
        "random_grid = {'n_estimators': n_estimators,\n",
        "               'max_features': max_features,\n",
        "               'max_depth': max_depth,\n",
        "               'min_samples_split': min_samples_split,\n",
        "               'min_samples_leaf': min_samples_leaf,\n",
        "               'bootstrap': bootstrap}\n",
        "print(random_grid)"
      ],
      "execution_count": null,
      "outputs": [
        {
          "output_type": "stream",
          "text": [
            "{'n_estimators': [200, 400, 600, 800, 1000, 1200, 1400, 1600, 1800, 2000], 'max_features': ['auto', 'sqrt'], 'max_depth': [10, 20, 30, 40, 50, 60, 70, 80, 90, 100, 110, None], 'min_samples_split': [2, 5, 10], 'min_samples_leaf': [1, 2, 4], 'bootstrap': [True, False]}\n"
          ],
          "name": "stdout"
        }
      ]
    },
    {
      "cell_type": "code",
      "metadata": {
        "colab": {
          "base_uri": "https://localhost:8080/"
        },
        "id": "GbbSfQdVhoDq",
        "outputId": "99daa979-82c7-4920-e245-b45e0bc6ef05"
      },
      "source": [
        "# Use the random grid to search for best hyperparameters\n",
        "# First create the base model to tune\n",
        "rf = RandomForestClassifier()\n",
        "# Random search of parameters, using 3 fold cross validation, \n",
        "# search across 100 different combinations, and use all available cores\n",
        "rf_random = RandomizedSearchCV(estimator = rf, param_distributions = random_grid, n_iter = 100, cv = 3, verbose=2, random_state=42, n_jobs = -1)\n",
        "# Fit the random search model\n",
        "rf_random.fit(train[features],train[\"DEP_DELAY\"])"
      ],
      "execution_count": null,
      "outputs": [
        {
          "output_type": "stream",
          "text": [
            "Fitting 3 folds for each of 100 candidates, totalling 300 fits\n"
          ],
          "name": "stdout"
        },
        {
          "output_type": "stream",
          "text": [
            "[Parallel(n_jobs=-1)]: Using backend LokyBackend with 2 concurrent workers.\n",
            "[Parallel(n_jobs=-1)]: Done  37 tasks      | elapsed:  3.0min\n",
            "[Parallel(n_jobs=-1)]: Done 158 tasks      | elapsed: 12.6min\n",
            "[Parallel(n_jobs=-1)]: Done 300 out of 300 | elapsed: 23.1min finished\n"
          ],
          "name": "stderr"
        },
        {
          "output_type": "execute_result",
          "data": {
            "text/plain": [
              "RandomizedSearchCV(cv=3, error_score=nan,\n",
              "                   estimator=RandomForestClassifier(bootstrap=True,\n",
              "                                                    ccp_alpha=0.0,\n",
              "                                                    class_weight=None,\n",
              "                                                    criterion='gini',\n",
              "                                                    max_depth=None,\n",
              "                                                    max_features='auto',\n",
              "                                                    max_leaf_nodes=None,\n",
              "                                                    max_samples=None,\n",
              "                                                    min_impurity_decrease=0.0,\n",
              "                                                    min_impurity_split=None,\n",
              "                                                    min_samples_leaf=1,\n",
              "                                                    min_samples_split=2,\n",
              "                                                    min_weight_fraction_leaf=0.0,\n",
              "                                                    n_estimators=100,\n",
              "                                                    n_jobs...\n",
              "                   param_distributions={'bootstrap': [True, False],\n",
              "                                        'max_depth': [10, 20, 30, 40, 50, 60,\n",
              "                                                      70, 80, 90, 100, 110,\n",
              "                                                      None],\n",
              "                                        'max_features': ['auto', 'sqrt'],\n",
              "                                        'min_samples_leaf': [1, 2, 4],\n",
              "                                        'min_samples_split': [2, 5, 10],\n",
              "                                        'n_estimators': [200, 400, 600, 800,\n",
              "                                                         1000, 1200, 1400, 1600,\n",
              "                                                         1800, 2000]},\n",
              "                   pre_dispatch='2*n_jobs', random_state=42, refit=True,\n",
              "                   return_train_score=False, scoring=None, verbose=2)"
            ]
          },
          "metadata": {
            "tags": []
          },
          "execution_count": 26
        }
      ]
    },
    {
      "cell_type": "code",
      "metadata": {
        "id": "V1nfsGtuhydp",
        "colab": {
          "base_uri": "https://localhost:8080/"
        },
        "outputId": "e75889e6-0f4e-466f-a695-28cf592be582"
      },
      "source": [
        "rf_random.best_params_"
      ],
      "execution_count": null,
      "outputs": [
        {
          "output_type": "execute_result",
          "data": {
            "text/plain": [
              "{'bootstrap': True,\n",
              " 'max_depth': 10,\n",
              " 'max_features': 'sqrt',\n",
              " 'min_samples_leaf': 4,\n",
              " 'min_samples_split': 2,\n",
              " 'n_estimators': 400}"
            ]
          },
          "metadata": {
            "tags": []
          },
          "execution_count": 27
        }
      ]
    },
    {
      "cell_type": "code",
      "metadata": {
        "id": "gWJD0FejgJcq"
      },
      "source": [
        "from sklearn.model_selection import GridSearchCV\n",
        "# Create the parameter grid based on the results of random search \n",
        "param_grid = {\n",
        "    'bootstrap': [True],\n",
        "    'max_depth': [10, 20, 30, 40],\n",
        "    'max_features': [2, 3],\n",
        "    'min_samples_leaf': [3, 4, 5],\n",
        "    'min_samples_split': [4, 8, 10],\n",
        "    'n_estimators': [100, 200, 300, 1000]\n",
        "}\n",
        "# Create a based model\n",
        "rf = RandomForestClassifier()\n",
        "# Instantiate the grid search model\n",
        "grid_search = GridSearchCV(estimator = rf, param_grid = param_grid, \n",
        "                          cv = 3, n_jobs = -1, verbose = 2)"
      ],
      "execution_count": null,
      "outputs": []
    },
    {
      "cell_type": "code",
      "metadata": {
        "id": "Ov_S45DOgXXC",
        "colab": {
          "base_uri": "https://localhost:8080/"
        },
        "outputId": "650a77bc-9dd8-4252-c1a1-bcb97fd47a30"
      },
      "source": [
        "# Fit the grid search to the data\n",
        "grid_search.fit(train[features],train[\"DEP_DELAY\"])\n",
        "grid_search.best_params_"
      ],
      "execution_count": null,
      "outputs": [
        {
          "output_type": "stream",
          "text": [
            "Fitting 3 folds for each of 288 candidates, totalling 864 fits\n"
          ],
          "name": "stdout"
        },
        {
          "output_type": "stream",
          "text": [
            "[Parallel(n_jobs=-1)]: Using backend LokyBackend with 2 concurrent workers.\n",
            "[Parallel(n_jobs=-1)]: Done  37 tasks      | elapsed:   45.8s\n",
            "[Parallel(n_jobs=-1)]: Done 158 tasks      | elapsed:  3.5min\n",
            "[Parallel(n_jobs=-1)]: Done 361 tasks      | elapsed:  8.7min\n",
            "[Parallel(n_jobs=-1)]: Done 644 tasks      | elapsed: 16.2min\n",
            "[Parallel(n_jobs=-1)]: Done 864 out of 864 | elapsed: 22.1min finished\n"
          ],
          "name": "stderr"
        },
        {
          "output_type": "execute_result",
          "data": {
            "text/plain": [
              "{'bootstrap': True,\n",
              " 'max_depth': 10,\n",
              " 'max_features': 2,\n",
              " 'min_samples_leaf': 4,\n",
              " 'min_samples_split': 8,\n",
              " 'n_estimators': 1000}"
            ]
          },
          "metadata": {
            "tags": []
          },
          "execution_count": 36
        }
      ]
    },
    {
      "cell_type": "code",
      "metadata": {
        "id": "OazLolX5c2i5"
      },
      "source": [
        "RFC_1=RandomForestClassifier(bootstrap=True,\n",
        " max_depth = 10,\n",
        " max_features= 2,\n",
        " min_samples_leaf= 4,\n",
        " min_samples_split= 2,\n",
        " n_estimators= 400)"
      ],
      "execution_count": null,
      "outputs": []
    },
    {
      "cell_type": "code",
      "metadata": {
        "id": "X4sd8B6tdtbf"
      },
      "source": [
        "RFC_1.fit(train[features],train[\"DEP_DELAY\"])"
      ],
      "execution_count": null,
      "outputs": []
    },
    {
      "cell_type": "code",
      "metadata": {
        "colab": {
          "base_uri": "https://localhost:8080/"
        },
        "id": "HqZQIaYoeC-Z",
        "outputId": "f287eb6f-7d90-49a3-fafe-7b0d5d292fdd"
      },
      "source": [
        "print(\"Accuracy:\",metrics.accuracy_score(test[\"DEP_DELAY\"], RFC_1.predict(test[features]))) "
      ],
      "execution_count": null,
      "outputs": [
        {
          "output_type": "stream",
          "text": [
            "Accuracy: 0.862015\n"
          ],
          "name": "stdout"
        }
      ]
    },
    {
      "cell_type": "markdown",
      "metadata": {
        "id": "37La5FoVoo9s"
      },
      "source": [
        "RANDOME FOREST REGRESSOR GOT 86%"
      ]
    },
    {
      "cell_type": "code",
      "metadata": {
        "id": "aizsOL7TOhu4"
      },
      "source": [
        "#plotting Confusion Matrix\n",
        "    \n",
        "plot_cm(test['DEP_DELAY'], RFC_1.predict(test[features]))"
      ],
      "execution_count": null,
      "outputs": []
    }
  ]
}